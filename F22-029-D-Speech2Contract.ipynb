{
  "cells": [
    {
      "cell_type": "code",
      "execution_count": null,
      "metadata": {
        "colab": {
          "base_uri": "https://localhost:8080/"
        },
        "id": "AbhtxTQY8_LC",
        "outputId": "0238a5c0-66b2-492e-cb95-d8a38cf16f35"
      },
      "outputs": [
        {
          "name": "stdout",
          "output_type": "stream",
          "text": [
            "Looking in indexes: https://pypi.org/simple, https://us-python.pkg.dev/colab-wheels/public/simple/\n",
            "Collecting git+https://github.com/openai/whisper.git\n",
            "  Cloning https://github.com/openai/whisper.git to /tmp/pip-req-build-3bg8ust6\n",
            "  Running command git clone --filter=blob:none --quiet https://github.com/openai/whisper.git /tmp/pip-req-build-3bg8ust6\n",
            "  Resolved https://github.com/openai/whisper.git to commit 28769fcfe50755a817ab922a7bc83483159600a9\n",
            "  Preparing metadata (setup.py) ... \u001b[?25l\u001b[?25hdone\n",
            "Requirement already satisfied: numpy in /usr/local/lib/python3.8/dist-packages (from whisper==1.0) (1.21.6)\n",
            "Requirement already satisfied: torch in /usr/local/lib/python3.8/dist-packages (from whisper==1.0) (1.13.0+cu116)\n",
            "Requirement already satisfied: tqdm in /usr/local/lib/python3.8/dist-packages (from whisper==1.0) (4.64.1)\n",
            "Requirement already satisfied: more-itertools in /usr/local/lib/python3.8/dist-packages (from whisper==1.0) (9.0.0)\n",
            "Collecting transformers>=4.19.0\n",
            "  Downloading transformers-4.25.1-py3-none-any.whl (5.8 MB)\n",
            "\u001b[2K     \u001b[90m━━━━━━━━━━━━━━━━━━━━━━━━━━━━━━━━━━━━━━━━\u001b[0m \u001b[32m5.8/5.8 MB\u001b[0m \u001b[31m43.9 MB/s\u001b[0m eta \u001b[36m0:00:00\u001b[0m\n",
            "\u001b[?25hCollecting ffmpeg-python==0.2.0\n",
            "  Downloading ffmpeg_python-0.2.0-py3-none-any.whl (25 kB)\n",
            "Requirement already satisfied: future in /usr/local/lib/python3.8/dist-packages (from ffmpeg-python==0.2.0->whisper==1.0) (0.16.0)\n",
            "Requirement already satisfied: requests in /usr/local/lib/python3.8/dist-packages (from transformers>=4.19.0->whisper==1.0) (2.25.1)\n",
            "Requirement already satisfied: pyyaml>=5.1 in /usr/local/lib/python3.8/dist-packages (from transformers>=4.19.0->whisper==1.0) (6.0)\n",
            "Requirement already satisfied: regex!=2019.12.17 in /usr/local/lib/python3.8/dist-packages (from transformers>=4.19.0->whisper==1.0) (2022.6.2)\n",
            "Requirement already satisfied: filelock in /usr/local/lib/python3.8/dist-packages (from transformers>=4.19.0->whisper==1.0) (3.8.2)\n",
            "Collecting huggingface-hub<1.0,>=0.10.0\n",
            "  Downloading huggingface_hub-0.11.1-py3-none-any.whl (182 kB)\n",
            "\u001b[2K     \u001b[90m━━━━━━━━━━━━━━━━━━━━━━━━━━━━━━━━━━━━━━\u001b[0m \u001b[32m182.4/182.4 KB\u001b[0m \u001b[31m18.8 MB/s\u001b[0m eta \u001b[36m0:00:00\u001b[0m\n",
            "\u001b[?25hCollecting tokenizers!=0.11.3,<0.14,>=0.11.1\n",
            "  Downloading tokenizers-0.13.2-cp38-cp38-manylinux_2_17_x86_64.manylinux2014_x86_64.whl (7.6 MB)\n",
            "\u001b[2K     \u001b[90m━━━━━━━━━━━━━━━━━━━━━━━━━━━━━━━━━━━━━━━━\u001b[0m \u001b[32m7.6/7.6 MB\u001b[0m \u001b[31m81.6 MB/s\u001b[0m eta \u001b[36m0:00:00\u001b[0m\n",
            "\u001b[?25hRequirement already satisfied: packaging>=20.0 in /usr/local/lib/python3.8/dist-packages (from transformers>=4.19.0->whisper==1.0) (21.3)\n",
            "Requirement already satisfied: typing-extensions in /usr/local/lib/python3.8/dist-packages (from torch->whisper==1.0) (4.4.0)\n",
            "Requirement already satisfied: pyparsing!=3.0.5,>=2.0.2 in /usr/local/lib/python3.8/dist-packages (from packaging>=20.0->transformers>=4.19.0->whisper==1.0) (3.0.9)\n",
            "Requirement already satisfied: chardet<5,>=3.0.2 in /usr/local/lib/python3.8/dist-packages (from requests->transformers>=4.19.0->whisper==1.0) (4.0.0)\n",
            "Requirement already satisfied: urllib3<1.27,>=1.21.1 in /usr/local/lib/python3.8/dist-packages (from requests->transformers>=4.19.0->whisper==1.0) (1.24.3)\n",
            "Requirement already satisfied: certifi>=2017.4.17 in /usr/local/lib/python3.8/dist-packages (from requests->transformers>=4.19.0->whisper==1.0) (2022.12.7)\n",
            "Requirement already satisfied: idna<3,>=2.5 in /usr/local/lib/python3.8/dist-packages (from requests->transformers>=4.19.0->whisper==1.0) (2.10)\n",
            "Building wheels for collected packages: whisper\n",
            "  Building wheel for whisper (setup.py) ... \u001b[?25l\u001b[?25hdone\n",
            "  Created wheel for whisper: filename=whisper-1.0-py3-none-any.whl size=1175340 sha256=4194735380aaf26cbc2d689e4b7547b1a220d71f026a1fdc1ea72baa65211771\n",
            "  Stored in directory: /tmp/pip-ephem-wheel-cache-makb5rry/wheels/a7/70/18/b7693c07b1d18b3dafb328f5d0496aa0d41a9c09ef332fd8e6\n",
            "Successfully built whisper\n",
            "Installing collected packages: tokenizers, ffmpeg-python, huggingface-hub, transformers, whisper\n",
            "Successfully installed ffmpeg-python-0.2.0 huggingface-hub-0.11.1 tokenizers-0.13.2 transformers-4.25.1 whisper-1.0\n"
          ]
        }
      ],
      "source": [
        "!pip install git+https://github.com/openai/whisper.git "
      ]
    },
    {
      "cell_type": "code",
      "execution_count": null,
      "metadata": {
        "colab": {
          "base_uri": "https://localhost:8080/"
        },
        "id": "YeulIK1P9B46",
        "outputId": "68bb43cf-6b6d-4e56-902c-93e98b7e217f"
      },
      "outputs": [
        {
          "name": "stderr",
          "output_type": "stream",
          "text": [
            "100%|███████████████████████████████████████| 139M/139M [00:02<00:00, 57.4MiB/s]\n"
          ]
        }
      ],
      "source": [
        "import whisper\n",
        "\n",
        "model = whisper.load_model(\"base\")\n"
      ]
    },
    {
      "cell_type": "code",
      "execution_count": null,
      "metadata": {
        "colab": {
          "base_uri": "https://localhost:8080/"
        },
        "id": "3554G-ovCB4N",
        "outputId": "f5873ee0-0b07-43c2-c2f5-0f5b734a1e16"
      },
      "outputs": [
        {
          "name": "stderr",
          "output_type": "stream",
          "text": [
            "/usr/local/lib/python3.8/dist-packages/whisper/transcribe.py:78: UserWarning: FP16 is not supported on CPU; using FP32 instead\n",
            "  warnings.warn(\"FP16 is not supported on CPU; using FP32 instead\")\n"
          ]
        }
      ],
      "source": [
        "result = model.transcribe(\"Adeen.wav\")"
      ]
    },
    {
      "cell_type": "code",
      "execution_count": null,
      "metadata": {
        "colab": {
          "base_uri": "https://localhost:8080/"
        },
        "id": "ztUJFYL29Glu",
        "outputId": "d8ad34ad-e28a-4c59-859a-4413b2480519"
      },
      "outputs": [
        {
          "name": "stdout",
          "output_type": "stream",
          "text": [
            " Hi, hello, is this Serena talking? Yes, how can I help you? I saw in newspaper you have posted for renting apartment. Yes, I did. I wanted to know how much money you are charging per month. It is 17,000 rupees. Can you tell me how many rooms are there and if you have attached bath with it or not? We have three rooms, two with attached bath, one kitchen and one dining room. Are the rooms furnished or not? No, they are not furnished. Okay, I am interested in making this deal. Can you give me more details about it? I am charging 4,000 rupees in advance before shifting. And after shifting you have to pay full amount. Also there is 10% increase of rent every year. Okay, I will send you advance money by tomorrow and then we will start shifting in house by the end of this month. Okay, great. It was good talking to you by looking forward to hearing from you soon.\n"
          ]
        }
      ],
      "source": [
        "print(result[\"text\"])\n",
        "text=result[\"text\"]"
      ]
    },
    {
      "cell_type": "code",
      "execution_count": null,
      "metadata": {
        "colab": {
          "base_uri": "https://localhost:8080/",
          "height": 71
        },
        "id": "4y_Jx-_nQnqE",
        "outputId": "d7c134a5-e399-4b50-ba2e-1df77fd578ed"
      },
      "outputs": [
        {
          "data": {
            "application/vnd.google.colaboratory.intrinsic+json": {
              "type": "string"
            },
            "text/plain": [
              "\"y, sr = librosa.load('Adeen.wav')\\n\\n# Extract MFCCs\\nmfccs = librosa.feature.mfcc(y=y, sr=sr)\\n\\n# Cluster the data using K-Means\\nkmeans = KMeans(n_clusters=2)\\nkmeans.fit(mfccs.T)\\n\\n# Use an SVM classifier to label the clusters\\nsvm = SVC(kernel='linear')\\nsvm.fit(mfccs.T, kmeans.labels_)\\n\\n# Predict the labels for the input data\\nlabels = svm.predict(mfccs.T)\\n\\n# Print the labels for each frame\\nprint(labels)\""
            ]
          },
          "execution_count": 3,
          "metadata": {},
          "output_type": "execute_result"
        }
      ],
      "source": [
        "import numpy as np\n",
        "import librosa\n",
        "from sklearn.cluster import KMeans\n",
        "from sklearn.svm import SVC\n",
        "\n",
        "# Load the audio file and extract the raw audio data\n",
        "'''y, sr = librosa.load('Adeen.wav')\n",
        "\n",
        "# Extract MFCCs\n",
        "mfccs = librosa.feature.mfcc(y=y, sr=sr)\n",
        "\n",
        "# Cluster the data using K-Means\n",
        "kmeans = KMeans(n_clusters=2)\n",
        "kmeans.fit(mfccs.T)\n",
        "\n",
        "# Use an SVM classifier to label the clusters\n",
        "svm = SVC(kernel='linear')\n",
        "svm.fit(mfccs.T, kmeans.labels_)\n",
        "\n",
        "# Predict the labels for the input data\n",
        "labels = svm.predict(mfccs.T)\n",
        "\n",
        "# Print the labels for each frame\n",
        "print(labels)'''"
      ]
    },
    {
      "cell_type": "code",
      "execution_count": 51,
      "metadata": {
        "id": "aAakd_tA9th1"
      },
      "outputs": [],
      "source": [
        "training_data={\"annotations\":[[\"P1: Is this Ahmed speaking?\\r\",{\"entities\":[[12,17,\"PERSON\"]]}],[\"P2: Yes, I’m Ahmed and you are?\\r\",{\"entities\":[[13,18,\"PERSON\"]]}],[\"P1: I am Danial. I got your number from a friend.\\r\",{\"entities\":[[9,16,\"PERSON\"]]}],[\"P1: I got a news that you are renting out an apartment in Faisal Colony.\\r\",{\"entities\":[[30,37,\"TYPE\"],[45,54,\"TYPE\"],[58,71,\"LOC\"]]}],[\"P2: Yes, I have an apartment that I would like to rent.\\r\",{\"entities\":[[19,28,\"TYPE\"],[50,54,\"TYPE\"]]}],[\"P1: Where is this apartment located exactly?\\r\",{\"entities\":[[18,27,\"TYPE\"]]}],[\"P2: Its building 6 New Sunshine Apartments, 2nd floor apartment 2A.\\r\",{\"entities\":[[17,66,\"LOC\"]]}],[\"P1: Good. So, can you tell be about how many rooms and washrooms are there?\\r\",{\"entities\":[[45,50,\"ENTITY\"],[55,64,\"ENTITY\"]]}],[\"P2: It has 3 bedrooms, 3 washrooms, a lounge and a kitchen.\\r\",{\"entities\":[[11,21,\"ENTITY\"],[23,34,\"ENTITY\"],[36,44,\"ENTITY\"],[49,58,\"ENTITY\"]]}],[\"P1: So, what’s the rent for the apartment and the security advance?\\r\",{\"entities\":[[19,23,\"TYPE\"],[32,41,\"TYPE\"]]}],[\"P2: Well, the security advance is Rs 10,000 and the monthly rent is Rs 20,000.\\r\",{\"entities\":[[34,43,\"PRICE\"],[60,64,\"TYPE\"],[68,77,\"PRICE\"]]}],[\"P1: Rs 20,000 for a 3-bedroom apartment, isn’t it high?\\r\",{\"entities\":[[4,13,\"PRICE\"],[20,39,\"ENTITY\"]]}],[\"P2: You can check other apartments in the building. You will get an idea that this much rent is\\r\",{\"entities\":[[88,92,\"TYPE\"]]}],[\"P1: I have checked other dealers’ apartments also. So, the last I can give you is Rs 18,000.\\r\",{\"entities\":[[34,44,\"TYPE\"],[82,92,\"PRICE\"]]}],[\"P2: It’s not reasonable for me. But I can give you some concession. I will give you the apartment for\\r\",{\"entities\":[[88,97,\"TYPE\"]]}],[\"Rs 19,000 a month.\\r\",{\"entities\":[[0,9,\"PRICE\"]]}],[\"P1: Okay then Rs 19,000 is good with me.\\r\",{\"entities\":[[14,23,\"PRICE\"]]}],[\"P2: Then we have a deal Mr. Danial?\\r\",{\"entities\":[[24,34,\"PERSON\"]]}],[\"P1: Actually, I want to have a discussion about your apartment as I heard that you are about\\r\",{\"entities\":[[53,62,\"TYPE\"]]}],[\"to rent it.\\r\",{\"entities\":[[3,7,\"TYPE\"]]}],[\"P2: Yeah, I will rent it out on 1st of this month.\\r\",{\"entities\":[[17,21,\"TYPE\"],[32,50,\"DATE\"]]}],[\"P1: What is the rent of your apartment?\\r\",{\"entities\":[[16,20,\"TYPE\"],[29,38,\"TYPE\"]]}],[\"P2: It’s Rs 15,000.\\r\",{\"entities\":[[9,18,\"PRICE\"]]}],[\"P1: Okay please tell me how many rooms and washrooms are there?\\r\",{\"entities\":[[33,38,\"ENTITY\"],[43,52,\"ENTITY\"]]}],[\"P2: 4 rooms and 2 washrooms.\\r\",{\"entities\":[[2,11,\"ENTITY\"],[16,27,\"ENTITY\"]]}],[\"P1: Not yet. I just saw your AD that you are selling your bike on Facebook. I'm interested.\\r\",{\"entities\":[[45,52,\"TYPE\"],[58,62,\"ENTITY\"],[66,75,\"ORG\"]]}],[\"P1: So, can you please tell me. What is the model of your bike.\\r\",{\"entities\":[[58,62,\"ENTITY\"]]}],[\"P2: Yes, It's 2011 Honda 70.\\r\",{\"entities\":[[14,18,\"MODEL\"],[19,27,\"ENTITY\"]]}],[\"P1: Okay. So, I am interested in buying this bike. Could you please tell me the final demand\\r\",{\"entities\":[[33,39,\"TYPE\"],[45,50,\"ENTITY\"]]}],[\"P2: It'll be Rs. 50,000 final. Not less than this.\\r\",{\"entities\":[[13,23,\"PRICE\"]]}],[\"Ali: Not yet Sir, I have seen your ad in a magazine. You are selling a Ukulele.\\r\",{\"entities\":[[0,3,\"PERSON\"],[61,68,\"TYPE\"],[71,78,\"ENTITY\"]]}],[\"Ahmed: Yes, I am!\\r\",{\"entities\":[[0,5,\"PERSON\"]]}],[\"Ali: Can you share the details of it?\\r\",{\"entities\":[[0,3,\"PERSON\"]]}],[\"Ahmed: Yeah sure, so its made of a special type of wood that is called mahogany. It’s one of the best woods for ukulele providing a well balance and toned tune.\\r\",{\"entities\":[[0,5,\"PERSON\"],[51,55,\"ENTITY\"],[71,80,\"ENTITY\"]]}],[\"Ahmed: Its Kamaka , Which is one of the finest ukulele maker of Hawaii.\\r\",{\"entities\":[[11,17,\"ORG\"],[47,54,\"ORG\"],[64,70,\"LOC\"]]}],[\"Ahmed: I’ll sell it for 12,000Rs\\r\",{\"entities\":[[12,16,\"TYPE\"],[24,32,\"PRICE\"]]}],[\"Raza: Ask him, there’s no way we will give it for that, I am a professional singer and I have brough such instruments many time. Make it 10 ,000 Rs.\\r\",{\"entities\":[[137,147,\"PRICE\"]]}],[\"Ali : Then Lets make the deal for 10,000 Rs as final.\\r\",{\"entities\":[[34,43,\"PRICE\"]]}],[\"Ahmed: Okay done from my side.\\r\",{\"entities\":[]}],[\"Ali: How will I pay you?\\r\",{\"entities\":[]}],[\"Ahmed: You can pay me the price when you’ll come to collect it from me.\\r\",{\"entities\":[]}],[\"Ali: Okay Done.\\r\",{\"entities\":[]}],[\"Ahmed: See you soon, Bye\\r\",{\"entities\":[]}],[\"Ali: Bye.\\r\",{\"entities\":[]}],[\"Asia: Hi, Do I know you?\\r\",{\"entities\":[[0,4,\"PERSON\"]]}],[\"Amna: I saw your ad in the newspaper; you were selling a washing machine.\\r\",{\"entities\":[[0,4,\"PERSON\"],[47,54,\"TYPE\"],[57,64,\"ENTITY\"],[65,72,\"ENTITY\"]]}],[\"Amna: I wanted to know some more details about it.\\r\",{\"entities\":[[0,4,\"PERSON\"]]}],[\"Asia: yeah, sure you can ask!\\r\",{\"entities\":[[0,4,\"PERSON\"]]}],[\"Amna: What’s the model of this machine?\\r\",{\"entities\":[[31,38,\"ENTITY\"]]}],[\"Asia: Its Dawlence Model no DW6550.\\r\",{\"entities\":[[10,18,\"ORG\"],[19,34,\"MODEL\"]]}],[\"Asia: weight 24 kg, depth 46cm, Its rinse, spin and water wash works well.\\r\",{\"entities\":[[6,18,\"FEATURE\"],[20,30,\"FEATURE\"]]}],[\"Asia: Its used for 5 months.\\r\",{\"entities\":[[19,27,\"USED_TIME\"]]}],[\"Asia: 25000Rs.\\r\",{\"entities\":[[6,14,\"PRICE\"]]}],[\"Amna: can we make it to 23000Rs?\\r\",{\"entities\":[[24,31,\"PRICE\"]]}],[\"Asia: The max I can do for you would be 23,500Rs\\r\",{\"entities\":[[40,48,\"PRICE\"]]}],[\"Asia: I can drop you machine near the police line road chowk, On Thursday around 3pm.\\r\",{\"entities\":[[21,28,\"ENTITY\"],[38,60,\"LOC\"],[65,73,\"DATE\"]]}],[\"Zoe: I saw a post on Facebook page , where you have posted the ad for a rental place in Islamabad.\\r\",{\"entities\":[[21,29,\"ORG\"],[72,78,\"TYPE\"],[88,97,\"LOC\"]]}],[\"Zack: Its near G9 Markaz Infront of Al – Madinah Store.\\r\",{\"entities\":[[15,54,\"LOC\"]]}],[\"Zoe: How many rooms are in there?\\r\",{\"entities\":[[14,19,\"ENTITY\"]]}],[\"Zack: Its mainly a double story house , On each floor we have 3 rooms with attached bath , A kitchen, a dining room and a  store room.\\r\",{\"entities\":[[19,39,\"ENTITY\"],[62,69,\"ENTITY\"],[75,88,\"ENTITY\"],[91,101,\"ENTITY\"],[102,119,\"ENTITY\"],[123,133,\"ENTITY\"]]}],[\"Zoe: What is the Rent of the whole double story house?\\r\",{\"entities\":[[17,21,\"TYPE\"]]}],[\"Zack: It would be 44,000Rs.\\r\",{\"entities\":[[18,26,\"PRICE\"]]}],[\"Zack: One more thing I forgot to mention that there would be increase of 10%  in the rent every year. Also you have to pay security once;  30000Rs, apart from the rent.\\r\",{\"entities\":[[73,76,\"PERCENT\"],[85,89,\"TYPE\"],[139,146,\"PRICE\"],[163,167,\"TYPE\"]]}],[\"Zoe: Oh okay! It’s a yes from me for single portion for rent. How much advance should I send you?\\r\",{\"entities\":[[56,61,\"TYPE\"]]}],[\"Zack: You have to send 30,000 in advance and once you will shift your luggage here, you’ll pay the full amount.\\r\",{\"entities\":[[23,29,\"PRICE\"]]}],[\"Zack : The portion is free, if you want then you can shift tommow.\\r\",{\"entities\":[[59,65,\"DATE\"]]}],[\"Zoe: Okay great!.Then we will shift in the house on 1st of this month.\\r\",{\"entities\":[[52,69,\"DATE\"]]}],[\"hello hi how are you i'm good what about you i'm fine how come you interactted me actually i want to have a discussion about your flat as i heard that you were about to rent it yeah i will wait it out on first of this month but is' the end of your fl it's fifteen thousand de dayrees okay please tell me how many rooms can watch that day four rooms and two watchoms okay that's good i'm interestrusted to buy uh should i send you an advance yeah okay thank you bye\\\"\\r\",{\"entities\":[[204,227,\"DATE\"],[236,263,\"DATE\"],[338,348,\"ENTITY\"],[353,365,\"ENTITY\"]]}],[\"hello hi how are you i'm good what about you i'm fine how come you interactted me actually i want to have a discussion about your flat as i heard that you were about to rent it yeah i will wait it out on first of this month but is' the end of your fl it's fifteen thousand de dayrees okay please tell me how many rooms can watch that day four rooms and two watchoms okay that's good i'm interestrusted to buy uh should i send you an advance yeah okay thank you bye\\r\",{\"entities\":[[169,173,\"TYPE\"],[204,223,\"DATE\"]]}],[\"hi hello is this selina talking yes how can i help you i saw a newspaper you have posted for renting apartment yes i did i wanted to know how much money you are charging per month uh it is seventeen thousand topece can you tell me how many rooms are there and if you have attached path with it or not ah we had three rooms two with a test bath one kitchen and one dining room are the rooms furnished or not no they are not punished oh okay i' am interested in making this deal can you give me more details about it i am charging four thousand repees in advance before shifting and after shifting you have to pay full amount also there is ten per cent increase of rent every year okay i will send you advance money by to morrow and then we will start shifting in house by the end of this month okay great it was good talking to you by by looking forward to hearing from you soon\\r\",{\"entities\":[[17,23,\"PERSON\"],[93,100,\"TYPE\"],[101,110,\"TYPE\"],[189,207,\"PRICE\"],[334,343,\"ENTITY\"],[344,355,\"ENTITY\"],[360,375,\"ENTITY\"]]}],[\"hello hi how are you i'm fine what about you i'm good how can you contact with me actually i wanted to have a discussion about your apartment as iard that to rent it yeah i will rent it on first of this month what is the of yourpar it's fifteen thousand to piece okay please tell me how many rooms in washton um four rooms and two washrooms okay yeah okay okay thank you bye\\r\",{\"entities\":[[132,141,\"TYPE\"],[158,162,\"TYPE\"],[178,182,\"TYPE\"],[189,208,\"DATE\"]]}],[\"hi fello do i know you no i saw you are renting a double story apartment near a commercial market yes the apartment will be rented for six months only please tell the rent as well you will be charged thirty five thousand repiece per month are there any other times and conditions yes there will be five per increase in rent after three months okay i am interestrued i will send you advance you have to send me fifteen hundred feet for advance i'm sending it to you okay thank you by bye\\r\",{\"entities\":[]}],[\"pi fellows how may i help you i saw an ad where you were selling cyclye yes i do i wanted to know a bit of its current condition it's in imperfect condition it's a racing bike with special thin tires and perfectly working gears oh okay sound good can you tell its final price its final price is twelve thousand ruwpece okay i want to buy it please share the location and date from where i can pick it you can pick it from d watson shop in g sector islamabad okay thank you by bye\\r\",{\"entities\":[]}],[\"hello sir i hope you are doing good hi yes i'm good do i know you not yet just saw your a of selling bike on safe book i'mtrusted oh okay so can you please tell me what is the model of your bike yes it's two thousand ele hoa seventy do it require any kind of work no not exactly does need to fix its light okay so i'm interestrued in buying this bike could you please sell me the final demand of this it will be seventy thousand at leastce final not less than this okay then i will send you the advance to considerate book by me okay sure thank you bye\",{\"entities\":[]}],[\"Hi, hello, is this Serena talking LOC ? Yes, how can I help you? I saw in newspaper you have posted for renting TYPE apartment. TYPE Yes, I did. I wanted to know how much money you are charging per month. It is Rupees 17,000 rupees PRICE . Can you tell me how many rooms ENTITY are there and if you have attached bath with it or not? We have three rooms ENTITY , two with attached bath, one kitchen ENTITY and one dining room. ENTITY Are the rooms ENTITY furnished or not? No, they are not furnished. Okay, I am interested in making this deal. Can you give me more details about it? I am charging 4,000 rupees in advance before shifting. And after shifting you have to pay full amount. Also there is 10% increase PERCENT of rent every year. Okay, I will send you advance money by tomorrow and then we will start shifting in house by the end of this month. Okay, great. It was good talking to you by looking forward to hearing from you soon.\",{\"entities\":[[19,25,\"PERSON\"],[104,111,\"TYPE\"],[117,127,\"TYPE\"],[211,231,\"PRICE\"],[304,317,\"ENTITY\"],[337,353,\"ENTITY\"],[372,385,\"ENTITY\"],[385,398,\"ENTITY\"],[410,426,\"ENTITY\"],[597,609,\"PRICE\"],[700,703,\"PERCENT\"],[780,788,\"DATE\"],[837,855,\"DATE\"]]}]]}\n",
        "#training_data={\"annotations\":[[\"Hi, hello, is this Serena talking LOC ? Yes, how can I help you? I saw in newspaper you have posted for renting TYPE apartment. TYPE Yes, I did. I wanted to know how much money you are charging per month. It is Rupees 17,000 rupees PRICE . Can you tell me how many rooms ENTITY are there and if you have attached bath with it or not? We have three rooms ENTITY , two with attached bath, one kitchen ENTITY and one dining room. ENTITY Are the rooms ENTITY furnished or not? No, they are not furnished. Okay, I am interested in making this deal. Can you give me more details about it? I am charging 4,000 rupees in advance before shifting. And after shifting you have to pay full amount. Also there is 10% increase PERCENT of rent every year. Okay, I will send you advance money by tomorrow and then we will start shifting in house by the end of this month. Okay, great. It was good talking to you by looking forward to hearing from you soon.\",{\"entities\":[[19,25,\"PERSON\"],[104,111,\"TYPE\"],[117,127,\"TYPE\"],[211,231,\"PRICE\"],[304,317,\"ENTITY\"],[337,353,\"ENTITY\"],[372,385,\"ENTITY\"],[385,398,\"ENTITY\"],[410,426,\"ENTITY\"],[597,609,\"PRICE\"],[700,703,\"PERCENT\"],[780,788,\"DATE\"],[837,855,\"DATE\"]]}]]}"
      ]
    },
    {
      "cell_type": "code",
      "execution_count": 52,
      "metadata": {
        "colab": {
          "base_uri": "https://localhost:8080/"
        },
        "id": "I-BYukXYGGD0",
        "outputId": "9a2a339b-10df-4855-c105-ce550436079f"
      },
      "outputs": [
        {
          "output_type": "stream",
          "name": "stderr",
          "text": [
            "100%|██████████| 75/75 [00:00<00:00, 506.84it/s]"
          ]
        },
        {
          "output_type": "stream",
          "name": "stdout",
          "text": [
            "Ahmed\n",
            "Ahmed\n",
            "Danial.\n",
            "renting\n",
            "apartment\n",
            "Faisal Colony\n",
            "apartment\n",
            "rent\n",
            "apartment\n",
            "6 New Sunshine Apartments, 2nd floor apartment\n",
            "rooms\n",
            "washrooms\n",
            "3 bedrooms\n",
            "3 washrooms\n",
            "a lounge\n",
            "a kitchen\n",
            "rent\n",
            "apartment\n",
            "Rs 10,000\n",
            "rent\n",
            "Rs 20,000\n",
            "Rs 20,000\n",
            "3-bedroom apartment\n",
            "rent\n",
            "apartments\n",
            "Rs 18,000.\n",
            "apartment\n",
            "Rs 19,000\n",
            "Rs 19,000\n",
            "Mr. Danial\n",
            "apartment\n",
            "rent\n",
            "rent\n",
            "1st of this month.\n",
            "rent\n",
            "apartment\n",
            "Rs 15,000\n",
            "rooms\n",
            "washrooms\n",
            ": 4 rooms\n",
            "2 washrooms\n",
            "selling\n",
            "bike\n",
            "Facebook.\n",
            "bike\n",
            "2011\n",
            "Honda 70\n",
            "buying\n",
            "bike.\n",
            "Rs. 50,000\n",
            "Ali\n",
            "selling\n",
            "Ukulele\n",
            "Ahmed\n",
            "Ali\n",
            "Ahmed\n",
            "wood\n",
            "mahogany.\n",
            "Kamaka\n",
            "ukulele\n",
            "Hawaii\n",
            "sell\n",
            "12,000Rs\n",
            "10 ,000 Rs\n",
            "10,000 Rs\n",
            "Asia\n",
            "Amna\n",
            "selling\n",
            "washing\n",
            "machine\n",
            "Amna\n",
            "Asia\n",
            "machine\n",
            "Dawlence\n",
            "Model no DW6550\n",
            "weight 24 kg\n",
            "depth 46cm\n",
            "5 months\n",
            "25000Rs.\n",
            "23000Rs\n",
            "23,500Rs\n",
            "machine\n",
            "police line road chowk\n",
            "Thursday\n",
            "Facebook\n",
            "rental\n",
            "Islamabad\n",
            "G9 Markaz Infront of Al – Madinah Store\n",
            "rooms\n",
            "double story house ,\n",
            "3 rooms\n",
            "attached bath\n",
            "A kitchen,\n",
            "a dining room and\n",
            "store room\n",
            "Rent\n",
            "44,000Rs\n",
            "10%\n",
            "rent\n",
            "30000Rs\n",
            "rent\n",
            "rent.\n",
            "30,000\n",
            "tommow\n",
            "1st of this month\n",
            "first of this month but\n",
            "end of your fl it's fifteen\n",
            "four rooms\n",
            "two watchoms\n",
            "rent\n",
            "first of this month\n",
            "selina\n",
            "renting\n",
            "apartment\n",
            "seventeen thousand\n",
            "test bath\n",
            "one kitchen\n",
            "one dining room\n",
            "apartment\n",
            "rent\n",
            "rent\n",
            "first of this month\n",
            "Serena\n",
            "renting\n",
            "apartment.\n",
            "Rupees 17,000 rupees\n",
            "attached bath\n",
            "have three rooms\n",
            "attached bath\n",
            ", one kitchen\n",
            "one dining room.\n",
            "4,000 rupees\n",
            "10%\n",
            "tomorrow\n",
            "end of this month.\n"
          ]
        },
        {
          "output_type": "stream",
          "name": "stderr",
          "text": [
            "\n"
          ]
        }
      ],
      "source": [
        "import pandas as pd\n",
        "import os\n",
        "from tqdm import tqdm\n",
        "import spacy\n",
        "from spacy.tokens import DocBin\n",
        "\n",
        "#nlp = spacy.blank(\"en\") # load a new spacy model\n",
        "nlp = spacy.load(\"en_core_web_sm\") # load other spacy model\n",
        "\n",
        "db = DocBin() \n",
        "\n",
        "for text, annot in tqdm(training_data['annotations']): \n",
        "    doc = nlp.make_doc(text) \n",
        "    ents = []\n",
        "    for start, end, label in annot[\"entities\"]: # add character indexes\n",
        "        span = doc.char_span(start, end, label=label, alignment_mode=\"contract\")\n",
        "        if span is None:\n",
        "            print(\"Skipping entity\")\n",
        "        else:\n",
        "            ents.append(span)\n",
        "            print(span)\n",
        "    doc.ents = ents # label the text with the ents\n",
        "    db.add(doc)\n",
        "\n",
        "db.to_disk(\"./train.spacy\") # save the docbin object"
      ]
    },
    {
      "cell_type": "code",
      "execution_count": 53,
      "metadata": {
        "colab": {
          "base_uri": "https://localhost:8080/"
        },
        "id": "-rhDShATGNZK",
        "outputId": "35cf1c4e-7762-40c1-f75a-413514c712ab"
      },
      "outputs": [
        {
          "output_type": "stream",
          "name": "stdout",
          "text": [
            "Looking in indexes: https://pypi.org/simple, https://us-python.pkg.dev/colab-wheels/public/simple/\n",
            "Requirement already satisfied: spacy-transformers in /usr/local/lib/python3.8/dist-packages (1.1.9)\n",
            "Requirement already satisfied: srsly<3.0.0,>=2.4.0 in /usr/local/lib/python3.8/dist-packages (from spacy-transformers) (2.4.5)\n",
            "Requirement already satisfied: transformers<4.26.0,>=3.4.0 in /usr/local/lib/python3.8/dist-packages (from spacy-transformers) (4.25.1)\n",
            "Requirement already satisfied: spacy-alignments<1.0.0,>=0.7.2 in /usr/local/lib/python3.8/dist-packages (from spacy-transformers) (0.9.0)\n",
            "Requirement already satisfied: torch>=1.6.0 in /usr/local/lib/python3.8/dist-packages (from spacy-transformers) (1.13.0+cu116)\n",
            "Requirement already satisfied: spacy<4.0.0,>=3.4.0 in /usr/local/lib/python3.8/dist-packages (from spacy-transformers) (3.4.4)\n",
            "Requirement already satisfied: murmurhash<1.1.0,>=0.28.0 in /usr/local/lib/python3.8/dist-packages (from spacy<4.0.0,>=3.4.0->spacy-transformers) (1.0.9)\n",
            "Requirement already satisfied: cymem<2.1.0,>=2.0.2 in /usr/local/lib/python3.8/dist-packages (from spacy<4.0.0,>=3.4.0->spacy-transformers) (2.0.7)\n",
            "Requirement already satisfied: thinc<8.2.0,>=8.1.0 in /usr/local/lib/python3.8/dist-packages (from spacy<4.0.0,>=3.4.0->spacy-transformers) (8.1.6)\n",
            "Requirement already satisfied: spacy-loggers<2.0.0,>=1.0.0 in /usr/local/lib/python3.8/dist-packages (from spacy<4.0.0,>=3.4.0->spacy-transformers) (1.0.4)\n",
            "Requirement already satisfied: catalogue<2.1.0,>=2.0.6 in /usr/local/lib/python3.8/dist-packages (from spacy<4.0.0,>=3.4.0->spacy-transformers) (2.0.8)\n",
            "Requirement already satisfied: pydantic!=1.8,!=1.8.1,<1.11.0,>=1.7.4 in /usr/local/lib/python3.8/dist-packages (from spacy<4.0.0,>=3.4.0->spacy-transformers) (1.10.2)\n",
            "Requirement already satisfied: requests<3.0.0,>=2.13.0 in /usr/local/lib/python3.8/dist-packages (from spacy<4.0.0,>=3.4.0->spacy-transformers) (2.25.1)\n",
            "Requirement already satisfied: numpy>=1.15.0 in /usr/local/lib/python3.8/dist-packages (from spacy<4.0.0,>=3.4.0->spacy-transformers) (1.21.6)\n",
            "Requirement already satisfied: packaging>=20.0 in /usr/local/lib/python3.8/dist-packages (from spacy<4.0.0,>=3.4.0->spacy-transformers) (21.3)\n",
            "Requirement already satisfied: preshed<3.1.0,>=3.0.2 in /usr/local/lib/python3.8/dist-packages (from spacy<4.0.0,>=3.4.0->spacy-transformers) (3.0.8)\n",
            "Requirement already satisfied: smart-open<7.0.0,>=5.2.1 in /usr/local/lib/python3.8/dist-packages (from spacy<4.0.0,>=3.4.0->spacy-transformers) (6.3.0)\n",
            "Requirement already satisfied: jinja2 in /usr/local/lib/python3.8/dist-packages (from spacy<4.0.0,>=3.4.0->spacy-transformers) (2.11.3)\n",
            "Requirement already satisfied: langcodes<4.0.0,>=3.2.0 in /usr/local/lib/python3.8/dist-packages (from spacy<4.0.0,>=3.4.0->spacy-transformers) (3.3.0)\n",
            "Requirement already satisfied: tqdm<5.0.0,>=4.38.0 in /usr/local/lib/python3.8/dist-packages (from spacy<4.0.0,>=3.4.0->spacy-transformers) (4.64.1)\n",
            "Requirement already satisfied: typer<0.8.0,>=0.3.0 in /usr/local/lib/python3.8/dist-packages (from spacy<4.0.0,>=3.4.0->spacy-transformers) (0.7.0)\n",
            "Requirement already satisfied: spacy-legacy<3.1.0,>=3.0.10 in /usr/local/lib/python3.8/dist-packages (from spacy<4.0.0,>=3.4.0->spacy-transformers) (3.0.10)\n",
            "Requirement already satisfied: setuptools in /usr/local/lib/python3.8/dist-packages (from spacy<4.0.0,>=3.4.0->spacy-transformers) (57.4.0)\n",
            "Requirement already satisfied: pathy>=0.3.5 in /usr/local/lib/python3.8/dist-packages (from spacy<4.0.0,>=3.4.0->spacy-transformers) (0.10.1)\n",
            "Requirement already satisfied: wasabi<1.1.0,>=0.9.1 in /usr/local/lib/python3.8/dist-packages (from spacy<4.0.0,>=3.4.0->spacy-transformers) (0.10.1)\n",
            "Requirement already satisfied: typing-extensions in /usr/local/lib/python3.8/dist-packages (from torch>=1.6.0->spacy-transformers) (4.4.0)\n",
            "Requirement already satisfied: pyyaml>=5.1 in /usr/local/lib/python3.8/dist-packages (from transformers<4.26.0,>=3.4.0->spacy-transformers) (6.0)\n",
            "Requirement already satisfied: tokenizers!=0.11.3,<0.14,>=0.11.1 in /usr/local/lib/python3.8/dist-packages (from transformers<4.26.0,>=3.4.0->spacy-transformers) (0.13.2)\n",
            "Requirement already satisfied: huggingface-hub<1.0,>=0.10.0 in /usr/local/lib/python3.8/dist-packages (from transformers<4.26.0,>=3.4.0->spacy-transformers) (0.11.1)\n",
            "Requirement already satisfied: filelock in /usr/local/lib/python3.8/dist-packages (from transformers<4.26.0,>=3.4.0->spacy-transformers) (3.8.2)\n",
            "Requirement already satisfied: regex!=2019.12.17 in /usr/local/lib/python3.8/dist-packages (from transformers<4.26.0,>=3.4.0->spacy-transformers) (2022.6.2)\n",
            "Requirement already satisfied: pyparsing!=3.0.5,>=2.0.2 in /usr/local/lib/python3.8/dist-packages (from packaging>=20.0->spacy<4.0.0,>=3.4.0->spacy-transformers) (3.0.9)\n",
            "Requirement already satisfied: certifi>=2017.4.17 in /usr/local/lib/python3.8/dist-packages (from requests<3.0.0,>=2.13.0->spacy<4.0.0,>=3.4.0->spacy-transformers) (2022.12.7)\n",
            "Requirement already satisfied: idna<3,>=2.5 in /usr/local/lib/python3.8/dist-packages (from requests<3.0.0,>=2.13.0->spacy<4.0.0,>=3.4.0->spacy-transformers) (2.10)\n",
            "Requirement already satisfied: urllib3<1.27,>=1.21.1 in /usr/local/lib/python3.8/dist-packages (from requests<3.0.0,>=2.13.0->spacy<4.0.0,>=3.4.0->spacy-transformers) (1.24.3)\n",
            "Requirement already satisfied: chardet<5,>=3.0.2 in /usr/local/lib/python3.8/dist-packages (from requests<3.0.0,>=2.13.0->spacy<4.0.0,>=3.4.0->spacy-transformers) (4.0.0)\n",
            "Requirement already satisfied: blis<0.8.0,>=0.7.8 in /usr/local/lib/python3.8/dist-packages (from thinc<8.2.0,>=8.1.0->spacy<4.0.0,>=3.4.0->spacy-transformers) (0.7.9)\n",
            "Requirement already satisfied: confection<1.0.0,>=0.0.1 in /usr/local/lib/python3.8/dist-packages (from thinc<8.2.0,>=8.1.0->spacy<4.0.0,>=3.4.0->spacy-transformers) (0.0.3)\n",
            "Requirement already satisfied: click<9.0.0,>=7.1.1 in /usr/local/lib/python3.8/dist-packages (from typer<0.8.0,>=0.3.0->spacy<4.0.0,>=3.4.0->spacy-transformers) (7.1.2)\n",
            "Requirement already satisfied: MarkupSafe>=0.23 in /usr/local/lib/python3.8/dist-packages (from jinja2->spacy<4.0.0,>=3.4.0->spacy-transformers) (2.0.1)\n"
          ]
        }
      ],
      "source": [
        "!pip install spacy-transformers"
      ]
    },
    {
      "cell_type": "code",
      "execution_count": 54,
      "metadata": {
        "colab": {
          "base_uri": "https://localhost:8080/"
        },
        "id": "bnw5CSt2GW8j",
        "outputId": "d9efb3d3-c623-460f-d499-2fa46dac38bd"
      },
      "outputs": [
        {
          "output_type": "stream",
          "name": "stdout",
          "text": [
            "/usr/local/lib/python3.8/dist-packages/torch/cuda/__init__.py:497: UserWarning: Can't initialize NVML\n",
            "  warnings.warn(\"Can't initialize NVML\")\n",
            "2023-01-08 17:32:47.294101: E tensorflow/stream_executor/cuda/cuda_driver.cc:271] failed call to cuInit: CUDA_ERROR_NO_DEVICE: no CUDA-capable device is detected\n",
            "\u001b[38;5;2m✔ Auto-filled config with all values\u001b[0m\n",
            "\u001b[38;5;2m✔ Saved config\u001b[0m\n",
            "config.cfg\n",
            "You can now add your data and train your pipeline:\n",
            "python -m spacy train config.cfg --paths.train ./train.spacy --paths.dev ./dev.spacy\n"
          ]
        }
      ],
      "source": [
        "!python -m spacy init fill-config base_config.cfg config.cfg"
      ]
    },
    {
      "cell_type": "code",
      "execution_count": 55,
      "metadata": {
        "colab": {
          "base_uri": "https://localhost:8080/"
        },
        "id": "psnqfaISGZOE",
        "outputId": "2e89a2cb-6c63-45d9-98ad-d54a5e571a95"
      },
      "outputs": [
        {
          "output_type": "stream",
          "name": "stdout",
          "text": [
            "/usr/local/lib/python3.8/dist-packages/torch/cuda/__init__.py:497: UserWarning: Can't initialize NVML\n",
            "  warnings.warn(\"Can't initialize NVML\")\n",
            "2023-01-08 17:32:55.708693: E tensorflow/stream_executor/cuda/cuda_driver.cc:271] failed call to cuInit: CUDA_ERROR_NO_DEVICE: no CUDA-capable device is detected\n",
            "\u001b[38;5;4mℹ Saving to output directory: output\u001b[0m\n",
            "\u001b[38;5;4mℹ Using CPU\u001b[0m\n",
            "\u001b[1m\n",
            "=========================== Initializing pipeline ===========================\u001b[0m\n",
            "[2023-01-08 17:32:56,986] [INFO] Set up nlp object from config\n",
            "INFO:spacy:Set up nlp object from config\n",
            "[2023-01-08 17:32:57,000] [INFO] Pipeline: ['tok2vec', 'ner']\n",
            "INFO:spacy:Pipeline: ['tok2vec', 'ner']\n",
            "[2023-01-08 17:32:57,005] [INFO] Created vocabulary\n",
            "INFO:spacy:Created vocabulary\n",
            "[2023-01-08 17:32:57,007] [INFO] Finished initializing nlp object\n",
            "INFO:spacy:Finished initializing nlp object\n",
            "[2023-01-08 17:32:57,178] [INFO] Initialized pipeline components: ['tok2vec', 'ner']\n",
            "INFO:spacy:Initialized pipeline components: ['tok2vec', 'ner']\n",
            "\u001b[38;5;2m✔ Initialized pipeline\u001b[0m\n",
            "\u001b[1m\n",
            "============================= Training pipeline =============================\u001b[0m\n",
            "\u001b[38;5;4mℹ Pipeline: ['tok2vec', 'ner']\u001b[0m\n",
            "\u001b[38;5;4mℹ Initial learn rate: 0.001\u001b[0m\n",
            "E    #       LOSS TOK2VEC  LOSS NER  ENTS_F  ENTS_P  ENTS_R  SCORE \n",
            "---  ------  ------------  --------  ------  ------  ------  ------\n",
            "  0       0          0.00     48.83    0.00    0.00    0.00    0.00\n",
            "  9     200        588.47   2499.07   69.84   75.21   65.19    0.70\n",
            " 21     400        153.44    575.40   95.27   93.57   97.04    0.95\n",
            " 34     600       1259.61    273.02   96.68   96.32   97.04    0.97\n",
            " 50     800         93.33    230.06   97.40   97.76   97.04    0.97\n",
            " 70    1000        101.64    206.50   97.40   97.76   97.04    0.97\n",
            " 95    1200        152.00    276.82   97.36   99.23   95.56    0.97\n",
            "125    1400        137.64    318.57   97.38   98.48   96.30    0.97\n",
            "162    1600        129.49    359.48   97.44   96.38   98.52    0.97\n",
            "209    1800        186.25    442.94   97.40   97.76   97.04    0.97\n",
            "265    2000        132.32    455.39   97.45   95.71   99.26    0.97\n",
            "332    2200        141.29    535.14   97.38   98.48   96.30    0.97\n",
            "418    2400        130.99    635.51   97.42   97.06   97.78    0.97\n",
            "516    2600        144.06    700.32   97.38   98.48   96.30    0.97\n",
            "615    2800        124.57    706.72   97.40   97.76   97.04    0.97\n",
            "714    3000        130.89    700.12   97.40   97.76   97.04    0.97\n",
            "814    3200        104.63    659.34   97.76   98.50   97.04    0.98\n",
            "913    3400        178.96    588.77   97.79   97.08   98.52    0.98\n",
            "1010    3600        164.41    584.92   97.76   98.50   97.04    0.98\n",
            "1107    3800        160.56    590.01   97.79   97.08   98.52    0.98\n",
            "1206    4000        149.97    577.80   97.76   98.50   97.04    0.98\n",
            "1304    4200        275.00    615.12   97.78   97.78   97.78    0.98\n",
            "1404    4400        171.31    607.13   97.79   97.08   98.52    0.98\n",
            "1504    4600        168.57    594.15   97.74   99.24   96.30    0.98\n",
            "1604    4800        133.53    571.77   97.78   97.78   97.78    0.98\n",
            "1703    5000        150.55    574.05   97.76   98.50   97.04    0.98\n",
            "\u001b[38;5;2m✔ Saved pipeline to output directory\u001b[0m\n",
            "output/model-last\n"
          ]
        }
      ],
      "source": [
        "!python -m spacy train config.cfg --output ./output --paths.train ./train.spacy --paths.dev ./train.spacy "
      ]
    },
    {
      "cell_type": "code",
      "execution_count": 57,
      "metadata": {
        "colab": {
          "base_uri": "https://localhost:8080/",
          "height": 227
        },
        "id": "y-uzohCfGdx8",
        "outputId": "f2ae76f7-96a5-424b-e2fb-f065b1f2d44d"
      },
      "outputs": [
        {
          "output_type": "display_data",
          "data": {
            "text/plain": [
              "<IPython.core.display.HTML object>"
            ],
            "text/html": [
              "<span class=\"tex2jax_ignore\"><div class=\"entities\" style=\"line-height: 2.5; direction: ltr\">Hi, hello, is this \n",
              "<mark class=\"entity\" style=\"background: #aa9cfc; padding: 0.45em 0.6em; margin: 0 0.25em; line-height: 1; border-radius: 0.35em;\">\n",
              "    Serena\n",
              "    <span style=\"font-size: 0.8em; font-weight: bold; line-height: 1; border-radius: 0.35em; vertical-align: middle; margin-left: 0.5rem\">PERSON</span>\n",
              "</mark>\n",
              " talking LOC ? Yes, how can I help you? I saw in newspaper you have posted for \n",
              "<mark class=\"entity\" style=\"background: #ddd; padding: 0.45em 0.6em; margin: 0 0.25em; line-height: 1; border-radius: 0.35em;\">\n",
              "    renting\n",
              "    <span style=\"font-size: 0.8em; font-weight: bold; line-height: 1; border-radius: 0.35em; vertical-align: middle; margin-left: 0.5rem\">TYPE</span>\n",
              "</mark>\n",
              " TYPE \n",
              "<mark class=\"entity\" style=\"background: #ddd; padding: 0.45em 0.6em; margin: 0 0.25em; line-height: 1; border-radius: 0.35em;\">\n",
              "    apartment.\n",
              "    <span style=\"font-size: 0.8em; font-weight: bold; line-height: 1; border-radius: 0.35em; vertical-align: middle; margin-left: 0.5rem\">TYPE</span>\n",
              "</mark>\n",
              " TYPE Yes, I did. I wanted to know how much money you are charging per month. It is \n",
              "<mark class=\"entity\" style=\"background: #ddd; padding: 0.45em 0.6em; margin: 0 0.25em; line-height: 1; border-radius: 0.35em;\">\n",
              "    Rupees 17,000 rupees\n",
              "    <span style=\"font-size: 0.8em; font-weight: bold; line-height: 1; border-radius: 0.35em; vertical-align: middle; margin-left: 0.5rem\">PRICE</span>\n",
              "</mark>\n",
              " PRICE . Can you tell me how many rooms ENTITY are there and if you have \n",
              "<mark class=\"entity\" style=\"background: #ddd; padding: 0.45em 0.6em; margin: 0 0.25em; line-height: 1; border-radius: 0.35em;\">\n",
              "    attached bath\n",
              "    <span style=\"font-size: 0.8em; font-weight: bold; line-height: 1; border-radius: 0.35em; vertical-align: middle; margin-left: 0.5rem\">ENTITY</span>\n",
              "</mark>\n",
              " with it or not? We \n",
              "<mark class=\"entity\" style=\"background: #ddd; padding: 0.45em 0.6em; margin: 0 0.25em; line-height: 1; border-radius: 0.35em;\">\n",
              "    have three rooms\n",
              "    <span style=\"font-size: 0.8em; font-weight: bold; line-height: 1; border-radius: 0.35em; vertical-align: middle; margin-left: 0.5rem\">ENTITY</span>\n",
              "</mark>\n",
              " ENTITY , two with \n",
              "<mark class=\"entity\" style=\"background: #ddd; padding: 0.45em 0.6em; margin: 0 0.25em; line-height: 1; border-radius: 0.35em;\">\n",
              "    attached bath\n",
              "    <span style=\"font-size: 0.8em; font-weight: bold; line-height: 1; border-radius: 0.35em; vertical-align: middle; margin-left: 0.5rem\">ENTITY</span>\n",
              "</mark>\n",
              "\n",
              "<mark class=\"entity\" style=\"background: #ddd; padding: 0.45em 0.6em; margin: 0 0.25em; line-height: 1; border-radius: 0.35em;\">\n",
              "    , one kitchen\n",
              "    <span style=\"font-size: 0.8em; font-weight: bold; line-height: 1; border-radius: 0.35em; vertical-align: middle; margin-left: 0.5rem\">ENTITY</span>\n",
              "</mark>\n",
              " ENTITY and \n",
              "<mark class=\"entity\" style=\"background: #ddd; padding: 0.45em 0.6em; margin: 0 0.25em; line-height: 1; border-radius: 0.35em;\">\n",
              "    one dining room.\n",
              "    <span style=\"font-size: 0.8em; font-weight: bold; line-height: 1; border-radius: 0.35em; vertical-align: middle; margin-left: 0.5rem\">ENTITY</span>\n",
              "</mark>\n",
              " ENTITY Are the rooms ENTITY furnished or not? No, they are not furnished. Okay, I am interested in making this deal. Can you give me more details about it? I am charging \n",
              "<mark class=\"entity\" style=\"background: #ddd; padding: 0.45em 0.6em; margin: 0 0.25em; line-height: 1; border-radius: 0.35em;\">\n",
              "    4,000 rupees\n",
              "    <span style=\"font-size: 0.8em; font-weight: bold; line-height: 1; border-radius: 0.35em; vertical-align: middle; margin-left: 0.5rem\">PRICE</span>\n",
              "</mark>\n",
              " in advance before shifting. And after shifting you have to pay full amount. Also there is \n",
              "<mark class=\"entity\" style=\"background: #e4e7d2; padding: 0.45em 0.6em; margin: 0 0.25em; line-height: 1; border-radius: 0.35em;\">\n",
              "    10%\n",
              "    <span style=\"font-size: 0.8em; font-weight: bold; line-height: 1; border-radius: 0.35em; vertical-align: middle; margin-left: 0.5rem\">PERCENT</span>\n",
              "</mark>\n",
              " increase PERCENT of rent every year. Okay, I will send you advance money by \n",
              "<mark class=\"entity\" style=\"background: #bfe1d9; padding: 0.45em 0.6em; margin: 0 0.25em; line-height: 1; border-radius: 0.35em;\">\n",
              "    tomorrow\n",
              "    <span style=\"font-size: 0.8em; font-weight: bold; line-height: 1; border-radius: 0.35em; vertical-align: middle; margin-left: 0.5rem\">DATE</span>\n",
              "</mark>\n",
              " and then we will start shifting in house by the \n",
              "<mark class=\"entity\" style=\"background: #bfe1d9; padding: 0.45em 0.6em; margin: 0 0.25em; line-height: 1; border-radius: 0.35em;\">\n",
              "    end of this month.\n",
              "    <span style=\"font-size: 0.8em; font-weight: bold; line-height: 1; border-radius: 0.35em; vertical-align: middle; margin-left: 0.5rem\">DATE</span>\n",
              "</mark>\n",
              " Okay, great. It was good talking to you by looking forward to hearing from you soon.</div></span>"
            ]
          },
          "metadata": {}
        }
      ],
      "source": [
        "nlp1 = spacy.load(r\"/content/output/model-best\") #load the best model\n",
        "doc = nlp1(text)\n",
        "spacy.displacy.render(doc, style=\"ent\", jupyter=True)"
      ]
    },
    {
      "cell_type": "code",
      "execution_count": 58,
      "metadata": {
        "colab": {
          "base_uri": "https://localhost:8080/"
        },
        "id": "qQv7UWjbLGx-",
        "outputId": "7fd3b2c8-c402-4271-a37b-4322f4e49ee8"
      },
      "outputs": [
        {
          "output_type": "stream",
          "name": "stdout",
          "text": [
            "rental\n"
          ]
        }
      ],
      "source": [
        "import string\n",
        "def filter_type(doc):\n",
        "  entities = [ent for ent in doc.ents if ent.label_ == \"TYPE\"]\n",
        "  extracted=[]\n",
        "\n",
        "  for entity in entities:\n",
        "      extracted.append(entity)\n",
        "\n",
        "  extracted    \n",
        "\n",
        "  new_extracted=[]\n",
        "  table = str.maketrans(\"\", \"\", string.punctuation)\n",
        "  for entity in extracted:\n",
        "      filtered_text = entity.text.translate(table)\n",
        "      new_extracted.append(filtered_text)\n",
        "      #print(filtered_text)\n",
        "  new_extracted    \n",
        "\n",
        "  for extract in new_extracted:\n",
        "    if extract=='apartment' or extract=='Apartment' or extract=='rent' or extract=='renting' or extract=='rental':\n",
        "      filter='rental'\n",
        "      return filter\n",
        "    elif extract=='selling' or extract=='sell' or extract=='buying' or extract=='buy' or extract=='sale':\n",
        "      filter='sale/purchase'\n",
        "      return filter\n",
        "\n",
        "filter=filter_type(doc)\n",
        "print(filter)       "
      ]
    },
    {
      "cell_type": "code",
      "execution_count": 59,
      "metadata": {
        "colab": {
          "base_uri": "https://localhost:8080/",
          "height": 464
        },
        "id": "RQprR_VwbpMl",
        "outputId": "232e7c05-46b6-4302-a717-931cefd52bbe"
      },
      "outputs": [
        {
          "output_type": "stream",
          "name": "stderr",
          "text": [
            "/usr/local/lib/python3.8/dist-packages/whisper/transcribe.py:78: UserWarning: FP16 is not supported on CPU; using FP32 instead\n",
            "  warnings.warn(\"FP16 is not supported on CPU; using FP32 instead\")\n"
          ]
        },
        {
          "output_type": "stream",
          "name": "stdout",
          "text": [
            "Transcribed text:  {'text': ' Hi, hello, is this Serena talking? Yes, how can I help you? I saw in newspaper you have posted for renting apartment. Yes, I did. I wanted to know how much money you are charging per month. It is 17,000 rupees. Can you tell me how many rooms are there and if you have attached bath with it or not? We have three rooms, two with attached bath, one kitchen and one dining room. Are the rooms furnished or not? No, they are not furnished. Okay, I am interested in making this deal. Can you give me more details about it? I am charging 4,000 rupees in advance before shifting. And after shifting you have to pay full amount. Also there is 10% increase of rent every year. Okay, I will send you advance money by tomorrow and then we will start shifting in house by the end of this month. Okay, great. It was good talking to you by looking forward to hearing from you soon.', 'segments': [{'id': 0, 'seek': 0, 'start': 0.0, 'end': 3.36, 'text': ' Hi, hello, is this Serena talking?', 'tokens': [2421, 11, 7751, 11, 307, 341, 4210, 4118, 1417, 30], 'temperature': 0.0, 'avg_logprob': -0.3176176888602121, 'compression_ratio': 1.6411290322580645, 'no_speech_prob': 0.31798866391181946}, {'id': 1, 'seek': 0, 'start': 3.36, 'end': 4.96, 'text': ' Yes, how can I help you?', 'tokens': [1079, 11, 577, 393, 286, 854, 291, 30], 'temperature': 0.0, 'avg_logprob': -0.3176176888602121, 'compression_ratio': 1.6411290322580645, 'no_speech_prob': 0.31798866391181946}, {'id': 2, 'seek': 0, 'start': 4.96, 'end': 8.32, 'text': ' I saw in newspaper you have posted for renting apartment.', 'tokens': [286, 1866, 294, 13669, 291, 362, 9437, 337, 40598, 9587, 13], 'temperature': 0.0, 'avg_logprob': -0.3176176888602121, 'compression_ratio': 1.6411290322580645, 'no_speech_prob': 0.31798866391181946}, {'id': 3, 'seek': 0, 'start': 8.32, 'end': 9.44, 'text': ' Yes, I did.', 'tokens': [1079, 11, 286, 630, 13], 'temperature': 0.0, 'avg_logprob': -0.3176176888602121, 'compression_ratio': 1.6411290322580645, 'no_speech_prob': 0.31798866391181946}, {'id': 4, 'seek': 0, 'start': 9.44, 'end': 12.88, 'text': ' I wanted to know how much money you are charging per month.', 'tokens': [286, 1415, 281, 458, 577, 709, 1460, 291, 366, 11379, 680, 1618, 13], 'temperature': 0.0, 'avg_logprob': -0.3176176888602121, 'compression_ratio': 1.6411290322580645, 'no_speech_prob': 0.31798866391181946}, {'id': 5, 'seek': 0, 'start': 12.88, 'end': 16.0, 'text': ' It is 17,000 rupees.', 'tokens': [467, 307, 3282, 11, 1360, 24638, 13], 'temperature': 0.0, 'avg_logprob': -0.3176176888602121, 'compression_ratio': 1.6411290322580645, 'no_speech_prob': 0.31798866391181946}, {'id': 6, 'seek': 0, 'start': 16.0, 'end': 20.88, 'text': ' Can you tell me how many rooms are there and if you have attached bath with it or not?', 'tokens': [1664, 291, 980, 385, 577, 867, 9396, 366, 456, 293, 498, 291, 362, 8570, 6079, 365, 309, 420, 406, 30], 'temperature': 0.0, 'avg_logprob': -0.3176176888602121, 'compression_ratio': 1.6411290322580645, 'no_speech_prob': 0.31798866391181946}, {'id': 7, 'seek': 0, 'start': 20.88, 'end': 26.400000000000002, 'text': ' We have three rooms, two with attached bath, one kitchen and one dining room.', 'tokens': [492, 362, 1045, 9396, 11, 732, 365, 8570, 6079, 11, 472, 6525, 293, 472, 17874, 1808, 13], 'temperature': 0.0, 'avg_logprob': -0.3176176888602121, 'compression_ratio': 1.6411290322580645, 'no_speech_prob': 0.31798866391181946}, {'id': 8, 'seek': 0, 'start': 26.400000000000002, 'end': 28.560000000000002, 'text': ' Are the rooms furnished or not?', 'tokens': [2014, 264, 9396, 11433, 4729, 420, 406, 30], 'temperature': 0.0, 'avg_logprob': -0.3176176888602121, 'compression_ratio': 1.6411290322580645, 'no_speech_prob': 0.31798866391181946}, {'id': 9, 'seek': 2856, 'start': 28.56, 'end': 30.56, 'text': ' No, they are not furnished.', 'tokens': [883, 11, 436, 366, 406, 11433, 4729, 13], 'temperature': 0.0, 'avg_logprob': -0.17770992341588754, 'compression_ratio': 1.6323529411764706, 'no_speech_prob': 0.00152302673086524}, {'id': 10, 'seek': 2856, 'start': 30.56, 'end': 33.6, 'text': ' Okay, I am interested in making this deal.', 'tokens': [1033, 11, 286, 669, 3102, 294, 1455, 341, 2028, 13], 'temperature': 0.0, 'avg_logprob': -0.17770992341588754, 'compression_ratio': 1.6323529411764706, 'no_speech_prob': 0.00152302673086524}, {'id': 11, 'seek': 2856, 'start': 33.6, 'end': 36.0, 'text': ' Can you give me more details about it?', 'tokens': [1664, 291, 976, 385, 544, 4365, 466, 309, 30], 'temperature': 0.0, 'avg_logprob': -0.17770992341588754, 'compression_ratio': 1.6323529411764706, 'no_speech_prob': 0.00152302673086524}, {'id': 12, 'seek': 2856, 'start': 36.0, 'end': 39.2, 'text': ' I am charging 4,000 rupees in advance before shifting.', 'tokens': [286, 669, 11379, 1017, 11, 1360, 24638, 294, 7295, 949, 17573, 13], 'temperature': 0.0, 'avg_logprob': -0.17770992341588754, 'compression_ratio': 1.6323529411764706, 'no_speech_prob': 0.00152302673086524}, {'id': 13, 'seek': 2856, 'start': 39.2, 'end': 41.44, 'text': ' And after shifting you have to pay full amount.', 'tokens': [400, 934, 17573, 291, 362, 281, 1689, 1577, 2372, 13], 'temperature': 0.0, 'avg_logprob': -0.17770992341588754, 'compression_ratio': 1.6323529411764706, 'no_speech_prob': 0.00152302673086524}, {'id': 14, 'seek': 2856, 'start': 42.16, 'end': 45.28, 'text': ' Also there is 10% increase of rent every year.', 'tokens': [2743, 456, 307, 1266, 4, 3488, 295, 6214, 633, 1064, 13], 'temperature': 0.0, 'avg_logprob': -0.17770992341588754, 'compression_ratio': 1.6323529411764706, 'no_speech_prob': 0.00152302673086524}, {'id': 15, 'seek': 2856, 'start': 46.16, 'end': 51.28, 'text': ' Okay, I will send you advance money by tomorrow and then we will start shifting in house', 'tokens': [1033, 11, 286, 486, 2845, 291, 7295, 1460, 538, 4153, 293, 550, 321, 486, 722, 17573, 294, 1782], 'temperature': 0.0, 'avg_logprob': -0.17770992341588754, 'compression_ratio': 1.6323529411764706, 'no_speech_prob': 0.00152302673086524}, {'id': 16, 'seek': 2856, 'start': 51.28, 'end': 52.8, 'text': ' by the end of this month.', 'tokens': [538, 264, 917, 295, 341, 1618, 13], 'temperature': 0.0, 'avg_logprob': -0.17770992341588754, 'compression_ratio': 1.6323529411764706, 'no_speech_prob': 0.00152302673086524}, {'id': 17, 'seek': 2856, 'start': 52.8, 'end': 53.92, 'text': ' Okay, great.', 'tokens': [1033, 11, 869, 13], 'temperature': 0.0, 'avg_logprob': -0.17770992341588754, 'compression_ratio': 1.6323529411764706, 'no_speech_prob': 0.00152302673086524}, {'id': 18, 'seek': 2856, 'start': 53.92, 'end': 58.16, 'text': ' It was good talking to you by looking forward to hearing', 'tokens': [467, 390, 665, 1417, 281, 291, 538, 1237, 2128, 281, 4763], 'temperature': 0.0, 'avg_logprob': -0.17770992341588754, 'compression_ratio': 1.6323529411764706, 'no_speech_prob': 0.00152302673086524}, {'id': 19, 'seek': 5816, 'start': 58.16, 'end': 60.16, 'text': ' from you soon.', 'tokens': [50364, 490, 291, 2321, 13, 50464], 'temperature': 0.0, 'avg_logprob': -0.3679277556283133, 'compression_ratio': 0.6363636363636364, 'no_speech_prob': 0.0017048742156475782}], 'language': 'en'}\n",
            "Speaker Diarization:  [0 0 0 ... 0 0 0]\n",
            "NER model Output: \n"
          ]
        },
        {
          "output_type": "display_data",
          "data": {
            "text/plain": [
              "<IPython.core.display.HTML object>"
            ],
            "text/html": [
              "<span class=\"tex2jax_ignore\"><div class=\"entities\" style=\"line-height: 2.5; direction: ltr\"> Hi, hello, is this \n",
              "<mark class=\"entity\" style=\"background: #aa9cfc; padding: 0.45em 0.6em; margin: 0 0.25em; line-height: 1; border-radius: 0.35em;\">\n",
              "    Serena\n",
              "    <span style=\"font-size: 0.8em; font-weight: bold; line-height: 1; border-radius: 0.35em; vertical-align: middle; margin-left: 0.5rem\">PERSON</span>\n",
              "</mark>\n",
              " talking? Yes, how can I help you? I saw in newspaper you have posted for \n",
              "<mark class=\"entity\" style=\"background: #ddd; padding: 0.45em 0.6em; margin: 0 0.25em; line-height: 1; border-radius: 0.35em;\">\n",
              "    renting\n",
              "    <span style=\"font-size: 0.8em; font-weight: bold; line-height: 1; border-radius: 0.35em; vertical-align: middle; margin-left: 0.5rem\">TYPE</span>\n",
              "</mark>\n",
              " \n",
              "<mark class=\"entity\" style=\"background: #ddd; padding: 0.45em 0.6em; margin: 0 0.25em; line-height: 1; border-radius: 0.35em;\">\n",
              "    apartment\n",
              "    <span style=\"font-size: 0.8em; font-weight: bold; line-height: 1; border-radius: 0.35em; vertical-align: middle; margin-left: 0.5rem\">TYPE</span>\n",
              "</mark>\n",
              ". Yes, I did. I wanted to know how much money you are charging per month. It is \n",
              "<mark class=\"entity\" style=\"background: #ddd; padding: 0.45em 0.6em; margin: 0 0.25em; line-height: 1; border-radius: 0.35em;\">\n",
              "    17,000 rupees\n",
              "    <span style=\"font-size: 0.8em; font-weight: bold; line-height: 1; border-radius: 0.35em; vertical-align: middle; margin-left: 0.5rem\">PRICE</span>\n",
              "</mark>\n",
              ". Can you tell me how many rooms are there and if you have \n",
              "<mark class=\"entity\" style=\"background: #ddd; padding: 0.45em 0.6em; margin: 0 0.25em; line-height: 1; border-radius: 0.35em;\">\n",
              "    attached bath\n",
              "    <span style=\"font-size: 0.8em; font-weight: bold; line-height: 1; border-radius: 0.35em; vertical-align: middle; margin-left: 0.5rem\">ENTITY</span>\n",
              "</mark>\n",
              " with it or not? We \n",
              "<mark class=\"entity\" style=\"background: #ddd; padding: 0.45em 0.6em; margin: 0 0.25em; line-height: 1; border-radius: 0.35em;\">\n",
              "    have three rooms\n",
              "    <span style=\"font-size: 0.8em; font-weight: bold; line-height: 1; border-radius: 0.35em; vertical-align: middle; margin-left: 0.5rem\">ENTITY</span>\n",
              "</mark>\n",
              ", two with \n",
              "<mark class=\"entity\" style=\"background: #ddd; padding: 0.45em 0.6em; margin: 0 0.25em; line-height: 1; border-radius: 0.35em;\">\n",
              "    attached bath\n",
              "    <span style=\"font-size: 0.8em; font-weight: bold; line-height: 1; border-radius: 0.35em; vertical-align: middle; margin-left: 0.5rem\">ENTITY</span>\n",
              "</mark>\n",
              "\n",
              "<mark class=\"entity\" style=\"background: #ddd; padding: 0.45em 0.6em; margin: 0 0.25em; line-height: 1; border-radius: 0.35em;\">\n",
              "    , one kitchen\n",
              "    <span style=\"font-size: 0.8em; font-weight: bold; line-height: 1; border-radius: 0.35em; vertical-align: middle; margin-left: 0.5rem\">ENTITY</span>\n",
              "</mark>\n",
              " and \n",
              "<mark class=\"entity\" style=\"background: #ddd; padding: 0.45em 0.6em; margin: 0 0.25em; line-height: 1; border-radius: 0.35em;\">\n",
              "    one dining room.\n",
              "    <span style=\"font-size: 0.8em; font-weight: bold; line-height: 1; border-radius: 0.35em; vertical-align: middle; margin-left: 0.5rem\">ENTITY</span>\n",
              "</mark>\n",
              " Are the rooms furnished or not? No, they are not furnished. Okay, I am interested in making this deal. Can you give me more details about it? I am charging \n",
              "<mark class=\"entity\" style=\"background: #ddd; padding: 0.45em 0.6em; margin: 0 0.25em; line-height: 1; border-radius: 0.35em;\">\n",
              "    4,000 rupees\n",
              "    <span style=\"font-size: 0.8em; font-weight: bold; line-height: 1; border-radius: 0.35em; vertical-align: middle; margin-left: 0.5rem\">PRICE</span>\n",
              "</mark>\n",
              " in advance before shifting. And after shifting you have to pay full amount. Also there is \n",
              "<mark class=\"entity\" style=\"background: #e4e7d2; padding: 0.45em 0.6em; margin: 0 0.25em; line-height: 1; border-radius: 0.35em;\">\n",
              "    10%\n",
              "    <span style=\"font-size: 0.8em; font-weight: bold; line-height: 1; border-radius: 0.35em; vertical-align: middle; margin-left: 0.5rem\">PERCENT</span>\n",
              "</mark>\n",
              " increase of rent every year. Okay, I will send you advance money by \n",
              "<mark class=\"entity\" style=\"background: #bfe1d9; padding: 0.45em 0.6em; margin: 0 0.25em; line-height: 1; border-radius: 0.35em;\">\n",
              "    tomorrow\n",
              "    <span style=\"font-size: 0.8em; font-weight: bold; line-height: 1; border-radius: 0.35em; vertical-align: middle; margin-left: 0.5rem\">DATE</span>\n",
              "</mark>\n",
              " and then we will start shifting in house by the \n",
              "<mark class=\"entity\" style=\"background: #bfe1d9; padding: 0.45em 0.6em; margin: 0 0.25em; line-height: 1; border-radius: 0.35em;\">\n",
              "    end of this month.\n",
              "    <span style=\"font-size: 0.8em; font-weight: bold; line-height: 1; border-radius: 0.35em; vertical-align: middle; margin-left: 0.5rem\">DATE</span>\n",
              "</mark>\n",
              " Okay, great. It was good talking to you by looking forward to hearing from you soon.</div></span>"
            ]
          },
          "metadata": {}
        },
        {
          "output_type": "stream",
          "name": "stdout",
          "text": [
            "NER model Output:   Hi, hello, is this Serena talking? Yes, how can I help you? I saw in newspaper you have posted for renting apartment. Yes, I did. I wanted to know how much money you are charging per month. It is 17,000 rupees. Can you tell me how many rooms are there and if you have attached bath with it or not? We have three rooms, two with attached bath, one kitchen and one dining room. Are the rooms furnished or not? No, they are not furnished. Okay, I am interested in making this deal. Can you give me more details about it? I am charging 4,000 rupees in advance before shifting. And after shifting you have to pay full amount. Also there is 10% increase of rent every year. Okay, I will send you advance money by tomorrow and then we will start shifting in house by the end of this month. Okay, great. It was good talking to you by looking forward to hearing from you soon.\n",
            "Type of contract:  rental\n"
          ]
        },
        {
          "output_type": "execute_result",
          "data": {
            "text/plain": [
              "( Hi, hello, is this Serena talking? Yes, how can I help you? I saw in newspaper you have posted for renting apartment. Yes, I did. I wanted to know how much money you are charging per month. It is 17,000 rupees. Can you tell me how many rooms are there and if you have attached bath with it or not? We have three rooms, two with attached bath, one kitchen and one dining room. Are the rooms furnished or not? No, they are not furnished. Okay, I am interested in making this deal. Can you give me more details about it? I am charging 4,000 rupees in advance before shifting. And after shifting you have to pay full amount. Also there is 10% increase of rent every year. Okay, I will send you advance money by tomorrow and then we will start shifting in house by the end of this month. Okay, great. It was good talking to you by looking forward to hearing from you soon.,\n",
              " 'rental')"
            ]
          },
          "metadata": {},
          "execution_count": 59
        }
      ],
      "source": [
        "def pipe(audio):\n",
        "  text=model.transcribe(audio)\n",
        "  print('Transcribed text: ', text)\n",
        "  text=text['text']\n",
        "  #Speaker Diarization\n",
        "  y, sr = librosa.load(audio)\n",
        "  mfccs = librosa.feature.mfcc(y=y, sr=sr)\n",
        "  kmeans = KMeans(n_clusters=2)\n",
        "  kmeans.fit(mfccs.T)\n",
        "  svm = SVC(kernel='linear')\n",
        "  svm.fit(mfccs.T, kmeans.labels_)\n",
        "  labels = svm.predict(mfccs.T)\n",
        "  print(\"Speaker Diarization: \",labels)\n",
        "\n",
        "  #NER\n",
        "  print(\"NER model Output: \")\n",
        "  doc = nlp1(text)\n",
        "  spacy.displacy.render(doc, style=\"ent\", jupyter=True)\n",
        "\n",
        "  #Type\n",
        "  filter=filter_type(doc)\n",
        "  print(\"NER model Output: \",doc)\n",
        "  print(\"Type of contract: \",filter)\n",
        "  return doc,filter\n",
        "\n",
        "\n",
        "pipe(\"Adeen.wav\")\n",
        "\n"
      ]
    },
    {
      "cell_type": "code",
      "execution_count": null,
      "metadata": {
        "id": "T4gALdGP_fDS"
      },
      "outputs": [],
      "source": [
        "from sklearn.pipeline import Pipeline"
      ]
    },
    {
      "cell_type": "code",
      "execution_count": null,
      "metadata": {
        "colab": {
          "base_uri": "https://localhost:8080/",
          "height": 35
        },
        "id": "4n2zO_kv_k5a",
        "outputId": "598bfae0-aa27-4480-cd5b-a827349f6bbb"
      },
      "outputs": [
        {
          "data": {
            "application/vnd.google.colaboratory.intrinsic+json": {
              "type": "string"
            },
            "text/plain": [
              "'models = Pipeline([\\n    (\"asr\", model),\\n    (\"ner\", nlp1)\\n])\\nmodels.set_params(asr__n_components=128, ner__max_iter=100)'"
            ]
          },
          "execution_count": 20,
          "metadata": {},
          "output_type": "execute_result"
        }
      ],
      "source": [
        "'''models = Pipeline([\n",
        "    (\"asr\", model),\n",
        "    (\"ner\", nlp1)\n",
        "])\n",
        "models.set_params(asr__n_components=128, ner__max_iter=100)'''"
      ]
    },
    {
      "cell_type": "code",
      "execution_count": null,
      "metadata": {
        "colab": {
          "base_uri": "https://localhost:8080/"
        },
        "id": "O45nw0F3WM4t",
        "outputId": "4b332b32-c017-41b2-a76c-69ff2ec0783e"
      },
      "outputs": [
        {
          "data": {
            "text/plain": [
              "<function BufferedWriter.close>"
            ]
          },
          "execution_count": 17,
          "metadata": {},
          "output_type": "execute_result"
        }
      ],
      "source": [
        "import pickle \n",
        "\n",
        "pickle_out=open(\"classifier.pkl\",\"wb\")\n",
        "pickle.dump(model,pickle_out)\n",
        "pickle.dump(nlp1,pickle_out)\n",
        "pickle_out.close"
      ]
    },
    {
      "cell_type": "code",
      "execution_count": 20,
      "metadata": {
        "colab": {
          "base_uri": "https://localhost:8080/"
        },
        "id": "ILfuJJCiEppO",
        "outputId": "8f575c3d-be1b-401d-d636-7327db3a195f"
      },
      "outputs": [
        {
          "output_type": "stream",
          "name": "stdout",
          "text": [
            "Looking in indexes: https://pypi.org/simple, https://us-python.pkg.dev/colab-wheels/public/simple/\n",
            "Collecting fastapi\n",
            "  Downloading fastapi-0.89.0-py3-none-any.whl (55 kB)\n",
            "\u001b[2K     \u001b[90m━━━━━━━━━━━━━━━━━━━━━━━━━━━━━━━━━━━━━━━━\u001b[0m \u001b[32m55.6/55.6 KB\u001b[0m \u001b[31m3.3 MB/s\u001b[0m eta \u001b[36m0:00:00\u001b[0m\n",
            "\u001b[?25hRequirement already satisfied: pydantic!=1.7,!=1.7.1,!=1.7.2,!=1.7.3,!=1.8,!=1.8.1,<2.0.0,>=1.6.2 in /usr/local/lib/python3.8/dist-packages (from fastapi) (1.10.2)\n",
            "Collecting starlette==0.22.0\n",
            "  Downloading starlette-0.22.0-py3-none-any.whl (64 kB)\n",
            "\u001b[2K     \u001b[90m━━━━━━━━━━━━━━━━━━━━━━━━━━━━━━━━━━━━━━━━\u001b[0m \u001b[32m64.3/64.3 KB\u001b[0m \u001b[31m6.9 MB/s\u001b[0m eta \u001b[36m0:00:00\u001b[0m\n",
            "\u001b[?25hCollecting anyio<5,>=3.4.0\n",
            "  Downloading anyio-3.6.2-py3-none-any.whl (80 kB)\n",
            "\u001b[2K     \u001b[90m━━━━━━━━━━━━━━━━━━━━━━━━━━━━━━━━━━━━━━━━\u001b[0m \u001b[32m80.6/80.6 KB\u001b[0m \u001b[31m8.3 MB/s\u001b[0m eta \u001b[36m0:00:00\u001b[0m\n",
            "\u001b[?25hRequirement already satisfied: typing-extensions>=3.10.0 in /usr/local/lib/python3.8/dist-packages (from starlette==0.22.0->fastapi) (4.4.0)\n",
            "Requirement already satisfied: idna>=2.8 in /usr/local/lib/python3.8/dist-packages (from anyio<5,>=3.4.0->starlette==0.22.0->fastapi) (2.10)\n",
            "Collecting sniffio>=1.1\n",
            "  Downloading sniffio-1.3.0-py3-none-any.whl (10 kB)\n",
            "Installing collected packages: sniffio, anyio, starlette, fastapi\n",
            "Successfully installed anyio-3.6.2 fastapi-0.89.0 sniffio-1.3.0 starlette-0.22.0\n",
            "Looking in indexes: https://pypi.org/simple, https://us-python.pkg.dev/colab-wheels/public/simple/\n",
            "Collecting uvicorn\n",
            "  Downloading uvicorn-0.20.0-py3-none-any.whl (56 kB)\n",
            "\u001b[2K     \u001b[90m━━━━━━━━━━━━━━━━━━━━━━━━━━━━━━━━━━━━━━━━\u001b[0m \u001b[32m56.9/56.9 KB\u001b[0m \u001b[31m2.7 MB/s\u001b[0m eta \u001b[36m0:00:00\u001b[0m\n",
            "\u001b[?25hRequirement already satisfied: click>=7.0 in /usr/local/lib/python3.8/dist-packages (from uvicorn) (7.1.2)\n",
            "Collecting h11>=0.8\n",
            "  Downloading h11-0.14.0-py3-none-any.whl (58 kB)\n",
            "\u001b[2K     \u001b[90m━━━━━━━━━━━━━━━━━━━━━━━━━━━━━━━━━━━━━━━━\u001b[0m \u001b[32m58.3/58.3 KB\u001b[0m \u001b[31m7.8 MB/s\u001b[0m eta \u001b[36m0:00:00\u001b[0m\n",
            "\u001b[?25hInstalling collected packages: h11, uvicorn\n",
            "Successfully installed h11-0.14.0 uvicorn-0.20.0\n"
          ]
        }
      ],
      "source": [
        "!pip install fastapi\n",
        "!pip install uvicorn\n"
      ]
    },
    {
      "cell_type": "code",
      "execution_count": 21,
      "metadata": {
        "id": "aGytLZOhJYKB"
      },
      "outputs": [],
      "source": [
        "import spacy\n",
        "from fastapi import FastAPI, File, UploadFile\n",
        "from pydantic import BaseModel\n",
        "\n",
        "app = FastAPI()\n",
        "\n",
        "# Load the trained model\n",
        "nlp = spacy.load(r\"/content/output/model-best\")\n",
        "\n",
        "class Request(BaseModel):\n",
        "    text: str\n",
        "\n",
        "@app.post(\"/\")\n",
        "def extract_entities(request: Request):\n",
        "    doc,filter=pipe(request.text)\n"
      ]
    },
    {
      "cell_type": "code",
      "execution_count": 22,
      "metadata": {
        "id": "aJgALdsXTUw4",
        "colab": {
          "base_uri": "https://localhost:8080/"
        },
        "outputId": "28440d91-5b8a-44ed-f202-6be92f87a4f8"
      },
      "outputs": [
        {
          "output_type": "stream",
          "name": "stdout",
          "text": [
            "Looking in indexes: https://pypi.org/simple, https://us-python.pkg.dev/colab-wheels/public/simple/\n",
            "Collecting pyngrok\n",
            "  Downloading pyngrok-5.2.1.tar.gz (761 kB)\n",
            "\u001b[2K     \u001b[90m━━━━━━━━━━━━━━━━━━━━━━━━━━━━━━━━━━━━━━\u001b[0m \u001b[32m761.3/761.3 KB\u001b[0m \u001b[31m11.9 MB/s\u001b[0m eta \u001b[36m0:00:00\u001b[0m\n",
            "\u001b[?25h  Preparing metadata (setup.py) ... \u001b[?25l\u001b[?25hdone\n",
            "Collecting nest_asyncio\n",
            "  Downloading nest_asyncio-1.5.6-py3-none-any.whl (5.2 kB)\n",
            "Requirement already satisfied: fastapi in /usr/local/lib/python3.8/dist-packages (0.89.0)\n",
            "Requirement already satisfied: uvicorn in /usr/local/lib/python3.8/dist-packages (0.20.0)\n",
            "Collecting loguru\n",
            "  Downloading loguru-0.6.0-py3-none-any.whl (58 kB)\n",
            "\u001b[2K     \u001b[90m━━━━━━━━━━━━━━━━━━━━━━━━━━━━━━━━━━━━━━━━\u001b[0m \u001b[32m58.3/58.3 KB\u001b[0m \u001b[31m6.8 MB/s\u001b[0m eta \u001b[36m0:00:00\u001b[0m\n",
            "\u001b[?25hRequirement already satisfied: PyYAML in /usr/local/lib/python3.8/dist-packages (from pyngrok) (6.0)\n",
            "Requirement already satisfied: pydantic!=1.7,!=1.7.1,!=1.7.2,!=1.7.3,!=1.8,!=1.8.1,<2.0.0,>=1.6.2 in /usr/local/lib/python3.8/dist-packages (from fastapi) (1.10.2)\n",
            "Requirement already satisfied: starlette==0.22.0 in /usr/local/lib/python3.8/dist-packages (from fastapi) (0.22.0)\n",
            "Requirement already satisfied: anyio<5,>=3.4.0 in /usr/local/lib/python3.8/dist-packages (from starlette==0.22.0->fastapi) (3.6.2)\n",
            "Requirement already satisfied: typing-extensions>=3.10.0 in /usr/local/lib/python3.8/dist-packages (from starlette==0.22.0->fastapi) (4.4.0)\n",
            "Requirement already satisfied: click>=7.0 in /usr/local/lib/python3.8/dist-packages (from uvicorn) (7.1.2)\n",
            "Requirement already satisfied: h11>=0.8 in /usr/local/lib/python3.8/dist-packages (from uvicorn) (0.14.0)\n",
            "Requirement already satisfied: sniffio>=1.1 in /usr/local/lib/python3.8/dist-packages (from anyio<5,>=3.4.0->starlette==0.22.0->fastapi) (1.3.0)\n",
            "Requirement already satisfied: idna>=2.8 in /usr/local/lib/python3.8/dist-packages (from anyio<5,>=3.4.0->starlette==0.22.0->fastapi) (2.10)\n",
            "Building wheels for collected packages: pyngrok\n",
            "  Building wheel for pyngrok (setup.py) ... \u001b[?25l\u001b[?25hdone\n",
            "  Created wheel for pyngrok: filename=pyngrok-5.2.1-py3-none-any.whl size=19792 sha256=bde5a5da3acd659449f1918284abc6665d8c6c759452307341c86e285a15f80c\n",
            "  Stored in directory: /root/.cache/pip/wheels/5d/f2/70/526da675d32f17577ec47ac4c663084efe39d47c826b6c3bb1\n",
            "Successfully built pyngrok\n",
            "Installing collected packages: pyngrok, nest_asyncio, loguru\n",
            "Successfully installed loguru-0.6.0 nest_asyncio-1.5.6 pyngrok-5.2.1\n"
          ]
        }
      ],
      "source": [
        "!pip install pyngrok nest_asyncio fastapi uvicorn loguru"
      ]
    },
    {
      "cell_type": "code",
      "execution_count": 23,
      "metadata": {
        "id": "mLa__RFRWHCA"
      },
      "outputs": [],
      "source": [
        "from fastapi import FastAPI\n",
        "from pydantic import BaseModel\n",
        "from loguru import logger\n",
        "from fastapi import Request\n",
        "\n",
        "app = FastAPI()\n",
        "\n",
        "class UserRequestIn(BaseModel):\n",
        "    text: str\n",
        "    \n",
        "@app.post(\"/extract\")\n",
        "def extract_entities(request: Request):\n",
        "    doc1,filter1=pipe(request.text)\n",
        "    return doc1,filter1\n"
      ]
    },
    {
      "cell_type": "code",
      "execution_count": 24,
      "metadata": {
        "colab": {
          "base_uri": "https://localhost:8080/"
        },
        "id": "ZGNjGWPoWgrp",
        "outputId": "3a0ea9ba-a171-49f8-b6d2-1275f4de8451"
      },
      "outputs": [
        {
          "output_type": "stream",
          "name": "stdout",
          "text": []
        },
        {
          "output_type": "execute_result",
          "data": {
            "text/plain": [
              "<NgrokTunnel: \"http://c0c4-34-173-223-73.ngrok.io\" -> \"http://localhost:8000\">"
            ]
          },
          "metadata": {},
          "execution_count": 24
        }
      ],
      "source": [
        "from pyngrok import ngrok\n",
        "ngrok_tunnel = ngrok.connect(8000)\n",
        "ngrok_tunnel"
      ]
    },
    {
      "cell_type": "code",
      "execution_count": 25,
      "metadata": {
        "colab": {
          "base_uri": "https://localhost:8080/"
        },
        "id": "VvowZe56WjLd",
        "outputId": "1223372d-4744-4e9e-c25b-92fd1a956f1b"
      },
      "outputs": [
        {
          "output_type": "stream",
          "name": "stderr",
          "text": [
            "INFO:     Started server process [322]\n",
            "INFO:     Waiting for application startup.\n",
            "INFO:     Application startup complete.\n",
            "INFO:     Uvicorn running on http://127.0.0.1:8000 (Press CTRL+C to quit)\n",
            "INFO:     Shutting down\n",
            "INFO:     Waiting for application shutdown.\n",
            "INFO:     Application shutdown complete.\n",
            "INFO:     Finished server process [322]\n"
          ]
        }
      ],
      "source": [
        "import nest_asyncio\n",
        "import uvicorn\n",
        "\n",
        "nest_asyncio.apply()\n",
        "uvicorn.run(app, port=8000)"
      ]
    }
  ],
  "metadata": {
    "colab": {
      "provenance": []
    },
    "gpuClass": "standard",
    "kernelspec": {
      "display_name": "Python 3",
      "name": "python3"
    },
    "language_info": {
      "name": "python"
    }
  },
  "nbformat": 4,
  "nbformat_minor": 0
}